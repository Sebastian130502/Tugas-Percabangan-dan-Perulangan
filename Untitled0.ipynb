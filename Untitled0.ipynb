{
  "nbformat": 4,
  "nbformat_minor": 0,
  "metadata": {
    "colab": {
      "name": "Untitled0.ipynb",
      "provenance": [],
      "collapsed_sections": [],
      "authorship_tag": "ABX9TyOCczMW27vYr4kYW5VDpAW2",
      "include_colab_link": true
    },
    "kernelspec": {
      "display_name": "Python 3",
      "name": "python3"
    }
  },
  "cells": [
    {
      "cell_type": "markdown",
      "metadata": {
        "id": "view-in-github",
        "colab_type": "text"
      },
      "source": [
        "<a href=\"https://colab.research.google.com/github/Sebastian130502/Tugas-Percabangan-dan-Perulangan/blob/main/Untitled0.ipynb\" target=\"_parent\"><img src=\"https://colab.research.google.com/assets/colab-badge.svg\" alt=\"Open In Colab\"/></a>"
      ]
    },
    {
      "cell_type": "code",
      "metadata": {
        "id": "uEHFAhsyJGca"
      },
      "source": [
        "# POSTTEST 3 MATERI PERCABANGAN DAN PERULANGAN\n",
        "# MATERI PERCABANGAN\n",
        "\n",
        "print(\"===== Selamat Datang Di Toko Bastian =====\")\n",
        "print(\"Menjual Takoyaki\")\n",
        "print(\"Beli 10/pcs Diskon 10% Untuk Varian 1\")\n",
        "print(\"Beli 8/pcs Diskon 8% Untuk Varian 2\")\n",
        "print(\"======================================\")\n",
        "\n",
        "print(\"Menu: \")\n",
        "print(\"1. Varian 1 = Rp.2000/pcs\")\n",
        "print(\"2. Varian 2 = Rp.2500/pcs\")\n",
        "\n",
        "pilih = int(input(\"Varian Yang Akan Dipesan = \"))\n",
        "if pilih == 1:\n",
        "    harga = 2000\n",
        "    jumlah = int(input(\"Jumlah yg di pesan       = \"))\n",
        "    if jumlah >= 10:\n",
        "        harga_asli = harga*jumlah\n",
        "        print(\"Anda Membeli Lebih Dari 10/pcs Varian 1\")\n",
        "        print(\"Anda Mendapatkan Diskon 10%\")\n",
        "        print(\" \")\n",
        "\n",
        "        total_belanja = harga*jumlah\n",
        "        diskon        = total_belanja * 10/100 # <== 10%\n",
        "        bayar         = total_belanja - diskon\n",
        "        print(\"Total Harga Sebelum Diskon Rp.%s\" % harga_asli)\n",
        "        print(\"Total Harga Setelah Diskon Rp.%s\" % bayar)\n",
        "        print(\" \")\n",
        "        print(\"Total Yang Dibayar: Rp.%s\" % bayar)\n",
        "        print(\"===== Terima Kasih Sudah Membeli Di Toko Kami =====\")\n",
        "        \n",
        "    else:\n",
        "        print(\"Anda Memilih Varian %s\" % pilih)\n",
        "        print(\"Dengan Jumlah %s\" % jumlah)\n",
        "        print(\" \")\n",
        "        bayar = harga*jumlah\n",
        "        print(\"Total Yang Harus Dibayar: Rp.%s\" % bayar)\n",
        "        print(\"===== Terima Kasih Sudah Membeli Di Toko Kami =====\")\n",
        "        \n",
        "elif pilih == 2:\n",
        "    harga = 2500\n",
        "    jumlah = int(input(\"Jumlah Yang Dipesan        = \"))\n",
        "    if jumlah >= 10:\n",
        "        harga_asli = harga*jumlah\n",
        "        print(\"Anda Membeli Lebih Dari 10/pcs Varian 2\")\n",
        "        print(\"Anda Mendapatkan Diskon 8%\")\n",
        "        print(\" \")\n",
        "\n",
        "        total_belanja = harga*jumlah\n",
        "        diskon        = total_belanja * 8/100 #10%\n",
        "        bayar         = total_belanja - diskon\n",
        "        print(\"Total Harga Sebelum Discon Rp.%s\" % harga_asli)\n",
        "        print(\"Total Harga Setelah Discon Rp.%s\" % bayar)\n",
        "        print(\" \")\n",
        "        print(\"Total Yang Dibayar: Rp.%s\" % bayar)\n",
        "        print(\"===== Terima Kasih Sudah Membeli Di Toko Kami =====\")\n",
        "        \n",
        "    else:\n",
        "        print(\"Anda Memilih Varian %s\" % pilih)\n",
        "        print(\"Dengan Jumlah %s\" % jumlah)\n",
        "        print(\" \")\n",
        "        bayar = harga*jumlah\n",
        "        print(\"Total Yang Dibayar: Rp.%s\" % bayar)\n",
        "        print(\"===== Terima Kasih Sudah Membeli Di Toko Kami =====\")\n",
        "\n",
        "else:\n",
        "    print(\"PILIHAN TIDAK ADA!\")"
      ],
      "execution_count": null,
      "outputs": []
    },
    {
      "cell_type": "code",
      "metadata": {
        "id": "h7v9lriQ0RHz"
      },
      "source": [
        "print(\"Materi Perulangan\")\n",
        "print(\"===============================\")\n",
        "N = int(input(\"Masukan Nilai : \"))\n",
        "for x in range(N):\n",
        "    if (10 ** x > N):\n",
        "        break\n",
        "\n",
        "    else:\n",
        "        print(\"Hasil Perulangan: \")\n",
        "    print(\"Nilai Yang Terkecil Dari 10^x Lebih Dari N =\", 10 ** x)"
      ],
      "execution_count": null,
      "outputs": []
    }
  ]
}